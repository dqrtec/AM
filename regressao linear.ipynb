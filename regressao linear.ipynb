{
 "cells": [
  {
   "cell_type": "code",
   "execution_count": 32,
   "metadata": {},
   "outputs": [],
   "source": [
    "import numpy as np\n",
    "import math\n",
    "import pandas as pd"
   ]
  },
  {
   "cell_type": "code",
   "execution_count": 33,
   "metadata": {},
   "outputs": [],
   "source": [
    "data_table = pd.DataFrame({'Peso': np.array([40.0, 93.5, 35.5, 30.0, 52.0, 17.0, 38.5,  8.5, 33.0,  9.5, 21.0, 79.0]) / 2.205,\n",
    "                            'Altura': np.array([42.8, 63.5, 37.5, 39.5, 45.5, 38.5, 43.0, 22.5, 37.0, 23.5, 33.0, 58.0]) / 39.37,\n",
    "                            'Cateter': [37, 50, 34, 36, 43, 28, 37, 20, 34, 30, 38, 47]},\n",
    "                            dtype='float')\n",
    "X = data_table"
   ]
  },
  {
   "cell_type": "code",
   "execution_count": 34,
   "metadata": {},
   "outputs": [],
   "source": [
    "def normalizarDados(X):\n",
    "    X.Peso = X.Peso - X.Peso.mean()\n",
    "    X.Peso = X.Peso / X.Peso.std()\n",
    "    \n",
    "    X.Altura = X.Altura - X.Altura.mean()\n",
    "    X.Altura = X.Altura / X.Altura.std()\n",
    "    \n",
    "    X.Cateter = X.Cateter - X.Cateter.mean()\n",
    "    X.Cateter = X.Cateter / X.Cateter.std()\n",
    "    \n",
    "    return X"
   ]
  },
  {
   "cell_type": "code",
   "execution_count": 35,
   "metadata": {},
   "outputs": [],
   "source": [
    "X = normalizarDados(X)\n",
    "\n",
    "Y = X[\"Cateter\"]\n",
    "X = X.drop([\"Cateter\"], axis=1)"
   ]
  },
  {
   "cell_type": "code",
   "execution_count": 58,
   "metadata": {},
   "outputs": [],
   "source": [
    "def OLT(x, y):\n",
    "    x = x.to_numpy()\n",
    "    x.shape[1]\n",
    "    y = y.to_numpy()\n",
    "    \n",
    "    transposta = np.transpose(x)\n",
    "    x1 = transposta @ x\n",
    "    x2 = np.linalg.inv( x1 )\n",
    "    x3 = x2 @ transposta\n",
    "    \n",
    "    x4 = transposta @ y\n",
    "    \n",
    "    return x3 @ transposta @ y"
   ]
  },
  {
   "cell_type": "code",
   "execution_count": 74,
   "metadata": {},
   "outputs": [
    {
     "ename": "ValueError",
     "evalue": "matmul: Input operand 1 has a mismatch in its core dimension 0, with gufunc signature (n?,k),(k,m?)->(n?,m?) (size 2 is different from 12)",
     "output_type": "error",
     "traceback": [
      "\u001b[0;31m---------------------------------------------------------------------------\u001b[0m",
      "\u001b[0;31mValueError\u001b[0m                                Traceback (most recent call last)",
      "\u001b[0;32m<ipython-input-74-280fd7292bd2>\u001b[0m in \u001b[0;36m<module>\u001b[0;34m\u001b[0m\n\u001b[0;32m----> 1\u001b[0;31m \u001b[0mOLT\u001b[0m\u001b[0;34m(\u001b[0m\u001b[0mX\u001b[0m\u001b[0;34m,\u001b[0m\u001b[0mY\u001b[0m\u001b[0;34m)\u001b[0m\u001b[0;34m\u001b[0m\u001b[0;34m\u001b[0m\u001b[0m\n\u001b[0m",
      "\u001b[0;32m<ipython-input-58-a376199429f9>\u001b[0m in \u001b[0;36mOLT\u001b[0;34m(x, y)\u001b[0m\n\u001b[1;32m     10\u001b[0m     \u001b[0mx4\u001b[0m \u001b[0;34m=\u001b[0m \u001b[0mtransposta\u001b[0m \u001b[0;34m@\u001b[0m \u001b[0my\u001b[0m\u001b[0;34m\u001b[0m\u001b[0;34m\u001b[0m\u001b[0m\n\u001b[1;32m     11\u001b[0m \u001b[0;34m\u001b[0m\u001b[0m\n\u001b[0;32m---> 12\u001b[0;31m     \u001b[0;32mreturn\u001b[0m \u001b[0mx3\u001b[0m \u001b[0;34m@\u001b[0m \u001b[0mtransposta\u001b[0m \u001b[0;34m@\u001b[0m \u001b[0my\u001b[0m\u001b[0;34m\u001b[0m\u001b[0;34m\u001b[0m\u001b[0m\n\u001b[0m",
      "\u001b[0;31mValueError\u001b[0m: matmul: Input operand 1 has a mismatch in its core dimension 0, with gufunc signature (n?,k),(k,m?)->(n?,m?) (size 2 is different from 12)"
     ]
    }
   ],
   "source": [
    "OLT(X,Y)"
   ]
  },
  {
   "cell_type": "code",
   "execution_count": 100,
   "metadata": {},
   "outputs": [
    {
     "name": "stdout",
     "output_type": "stream",
     "text": [
      "(2, 12)\n",
      "(12, 2)\n",
      "(2, 2)\n",
      "\n",
      "(2, 12)\n",
      "(12, 1)\n",
      "(2, 1)\n",
      "\n",
      "[[9.94961259]\n",
      " [9.82066074]]\n"
     ]
    }
   ],
   "source": [
    "x = X.to_numpy()\n",
    "y = Y.to_numpy()\n",
    "y = np.transpose( np.array([y]) )\n",
    "transposta = np.transpose(x)\n",
    "print(transposta.shape)\n",
    "print(x.shape)\n",
    "print((transposta @ x).shape)\n",
    "print()\n",
    "print(transposta.shape)\n",
    "print(y.shape)\n",
    "print( (transposta @ y).shape )\n",
    "print()\n",
    "print( (transposta @ y) )"
   ]
  },
  {
   "cell_type": "code",
   "execution_count": null,
   "metadata": {},
   "outputs": [],
   "source": []
  }
 ],
 "metadata": {
  "kernelspec": {
   "display_name": "Python 3",
   "language": "python",
   "name": "python3"
  },
  "language_info": {
   "codemirror_mode": {
    "name": "ipython",
    "version": 3
   },
   "file_extension": ".py",
   "mimetype": "text/x-python",
   "name": "python",
   "nbconvert_exporter": "python",
   "pygments_lexer": "ipython3",
   "version": "3.6.10"
  }
 },
 "nbformat": 4,
 "nbformat_minor": 4
}
